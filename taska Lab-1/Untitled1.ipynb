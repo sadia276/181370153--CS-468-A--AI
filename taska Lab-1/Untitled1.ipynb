{
 "cells": [
  {
   "cell_type": "markdown",
   "id": "03c3aff1",
   "metadata": {},
   "source": [
    "Q1:Write a program that will ask the user to enter the amount of a purchase. The program should then\n",
    "compute the state and county sales tax. Assume the state sales tax is 5 percent and the county\n",
    "sales tax is 2.5 percent. The program should display the following: * The amount of the purchase\n",
    "* The state sales tax * The county sales tax * The total sales tax * and the total of the sale (which\n",
    "is the sum of the amount of purchase plus the total sales tax).\n"
   ]
  },
  {
   "cell_type": "code",
   "execution_count": 2,
   "id": "4eb891ff",
   "metadata": {},
   "outputs": [
    {
     "name": "stdout",
     "output_type": "stream",
     "text": [
      "enter purchase value200\n",
      "purchase is :  200\n",
      "State Sale Tax is :  10.0\n",
      "County sale Tax is :  5.0\n",
      "Total sale tax is :  15.0\n",
      "Total sale   is :  215.0\n"
     ]
    }
   ],
   "source": [
    "purchase = int(input(\"enter purchase value\"))\n",
    "stateSaleTax = (5/100)*purchase\n",
    "countrySaleTax = (2.5/100)*purchase\n",
    "totalTax = stateSaleTax+countrySaleTax\n",
    "totalSale = totalTax+purchase\n",
    "print(\"purchase is : \",purchase )\n",
    "print(\"State Sale Tax is : \",stateSaleTax)\n",
    "print(\"County sale Tax is : \",countrySaleTax)\n",
    "print(\"Total sale tax is : \" ,totalTax)\n",
    "print(\"Total sale   is : \" ,totalSale)"
   ]
  },
  {
   "cell_type": "markdown",
   "id": "4b16d97b",
   "metadata": {},
   "source": [
    "Q2: Write a program that calculates the total amount of a meal purchased at a restaurant. The program\n",
    "should ask the user to enter the charge for the food, and then calculate the amount of a 18 percent\n",
    "tip and 7 percent sales tax. Display each of these amounts and the total."
   ]
  },
  {
   "cell_type": "code",
   "execution_count": 3,
   "id": "ed768108",
   "metadata": {},
   "outputs": [
    {
     "name": "stdout",
     "output_type": "stream",
     "text": [
      "enter purchase for the meal : 300\n",
      "Charges at food is : 300\n",
      "tip on food  is : 54.0\n",
      "tax at food is : 21.000000000000004\n",
      "total purchase at food is : 375.0\n"
     ]
    }
   ],
   "source": [
    "purchase = int(input(\"enter purchase for the meal : \"))\n",
    "tip = (18/100)*purchase\n",
    "tax = (7/100)*purchase\n",
    "total = purchase+tip+tax\n",
    "print(\"Charges at food is :\",purchase)\n",
    "print(\"tip on food  is :\",tip)\n",
    "print(\"tax at food is :\",tax)\n",
    "print(\"total purchase at food is :\",total)"
   ]
  },
  {
   "cell_type": "markdown",
   "id": "a9d9c0c3",
   "metadata": {},
   "source": [
    "Q3: A cookie recipe calls for the following ingredients: * 1.5 cups of sugar * 1 cup of butter * 2.75 cups of flour The recipe produces 48 cookies with this amount of the ingredients. Write a program that asks the user how many cookies he or she wants to make, and then displays the number of cups of each ingredient needed for the specified number of cookies."
   ]
  },
  {
   "cell_type": "code",
   "execution_count": 5,
   "id": "3e5d4e6a",
   "metadata": {},
   "outputs": [
    {
     "name": "stdout",
     "output_type": "stream",
     "text": [
      "How many cookies you want to bake : 200\n",
      "Number of suger cups:  6.25\n",
      "Number of butter cups:  4.166666666666666\n",
      "Number of flour cups:  11.458333333333332\n"
     ]
    }
   ],
   "source": [
    "sugerCup1=1.5/48\n",
    "butterCup1=1/48\n",
    "flourCup1=2.75/48\n",
    "cookie=int(input(\"How many cookies you want to bake : \"))\n",
    "print(\"Number of suger cups: \", sugerCup1*cookie)\n",
    "print(\"Number of butter cups: \", butterCup1*cookie)\n",
    "print(\"Number of flour cups: \", flourCup1*cookie)"
   ]
  },
  {
   "cell_type": "markdown",
   "id": "aaedbeb8",
   "metadata": {},
   "source": [
    "Q4: Write a program that asks the user for the number of males and the number of females registered\n",
    "in a class. The program should display the percentage of males and females in the class.\n",
    "Hint: Suppose there are 8 males and 12 females in a class. There are 20 students in the class. The\n",
    "percentage of males can be calculated as 8 4 20 5 0.4, or 40%. The percentage of females can be\n",
    "calculated as 12 4 20 5 0.6, or 60%."
   ]
  },
  {
   "cell_type": "code",
   "execution_count": 9,
   "id": "be0fbd5f",
   "metadata": {},
   "outputs": [
    {
     "name": "stdout",
     "output_type": "stream",
     "text": [
      "enter number of male student: 8\n",
      "enter number of female student: 12\n",
      "Total students:  20\n",
      "Male percentage:  1.6\n",
      "Female percentage:  2.4\n"
     ]
    }
   ],
   "source": [
    "male=int(input(\"enter number of male student: \"))\n",
    "female=int(input(\"enter number of female student: \"))\n",
    "totalStudents=male+female\n",
    "malePercentage=(male/100)*totalStudents\n",
    "femalePercentage=(female/100)*totalStudents\n",
    "print(\"Total students: \", totalStudents)\n",
    "print(\"Male percentage: \", malePercentage)\n",
    "print(\"Female percentage: \", femalePercentage)\n"
   ]
  },
  {
   "cell_type": "markdown",
   "id": "f498bfe1",
   "metadata": {},
   "source": [
    "Q5: Last month Joe purchased some stock in Acme Software, Inc. Here are the details of the purchase:\n",
    "* The number of shares that Joe purchased was 2,000. * When Joe purchased the stock, he paid\n",
    "40.00 Dollar per share. * Joe paid his stockbroker a commission that amounted to 3 percent of the\n",
    "amount he paid for the stock.\n",
    "Two weeks later Joe sold the stock. Here are the details of the sale: * The number of shares that\n",
    "Joe sold was 2,000. * He sold the stock for 42.75 Dollar per share. * He paid his stockbroker\n",
    "another commission that amounted to 3 percent of the amount he received for the stock.\n",
    "Write a program that displays the following information: * The amount of money Joe paid for the\n",
    "stock. * The amount of commission Joe paid his broker when he bought the stock. * The amount\n",
    "that Joe sold the stock for. * The amount of commission Joe paid his broker when he sold the\n",
    "stock. * Display the amount of money that Joe had left when he sold the stock and paid his broker\n",
    "(both times). If this amount is positive, then Joe made a profit. If the amount is negative, then\n",
    "Joe lost money."
   ]
  },
  {
   "cell_type": "code",
   "execution_count": 10,
   "id": "45e1a644",
   "metadata": {},
   "outputs": [
    {
     "name": "stdout",
     "output_type": "stream",
     "text": [
      "Deal goes in profit .\n"
     ]
    }
   ],
   "source": [
    "totalAmount=2000*40\n",
    "purchaseDealer=(3/100)*totalAmount\n",
    "totalPurchase=totalAmount+purchaseDealer\n",
    "totalSale=2000*42.75\n",
    "saleDealer=(3/100)*totalSale\n",
    "sale=totalSale-saleDealer\n",
    "if sale>0:\n",
    "    print(\"Deal goes in profit .\")\n",
    "else :\n",
    "    print(\"Deal goes in loss .\")"
   ]
  },
  {
   "cell_type": "code",
   "execution_count": null,
   "id": "fdae11d5",
   "metadata": {},
   "outputs": [],
   "source": []
  }
 ],
 "metadata": {
  "kernelspec": {
   "display_name": "Python 3",
   "language": "python",
   "name": "python3"
  },
  "language_info": {
   "codemirror_mode": {
    "name": "ipython",
    "version": 3
   },
   "file_extension": ".py",
   "mimetype": "text/x-python",
   "name": "python",
   "nbconvert_exporter": "python",
   "pygments_lexer": "ipython3",
   "version": "3.8.8"
  }
 },
 "nbformat": 4,
 "nbformat_minor": 5
}
