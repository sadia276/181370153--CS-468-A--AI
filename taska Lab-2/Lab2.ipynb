{
 "cells": [
  {
   "cell_type": "markdown",
   "id": "1f3a2623",
   "metadata": {},
   "source": [
    "## Mass and Weight\n",
    "\n",
    "Scientists measure an object’s mass in kilograms and its weight in newtons. If you know\n",
    "the amount of mass of an object in kilograms, you can calculate its weight in newtons with\n",
    "the following formula:\n",
    "**<center>weight = mass * 3 9.8</center>**\n",
    "Write a program that asks the user to enter an object’s mass, and then calculates its weight.\n",
    "If the object weighs more than 500 newtons, display a message indicating that it is too\n",
    "heavy. If the object weighs less than 100 newtons, display a message indicating that it is\n",
    "too light."
   ]
  },
  {
   "cell_type": "code",
   "execution_count": 3,
   "id": "0129ab66",
   "metadata": {},
   "outputs": [
    {
     "name": "stdout",
     "output_type": "stream",
     "text": [
      "\n",
      "\tEnter the mass of object   :\t30\n",
      "\n",
      "\t 30.0 kg =  1194.0 newtons\n",
      "\n",
      "\tIt is too heavy!\n"
     ]
    }
   ],
   "source": [
    "mass=float(input(\"\\n\\tEnter the mass of object   :\\t\"))\n",
    "weight=mass*39.8\n",
    "print(\"\\n\\t\",mass,\"kg = \",weight,\"newtons\")\n",
    "if weight>500 :\n",
    "    print(\"\\n\\tIt is too heavy!\")\n",
    "elif weight<100 :\n",
    "    print(\"\\n\\tIt is too light!\")"
   ]
  },
  {
   "cell_type": "markdown",
   "id": "db316e2a",
   "metadata": {},
   "source": [
    "## Hot Dogs Cookout Calculator\n",
    "Assume that hot dogs come in packages of 10, and hot dog buns come in packages of 8.\n",
    "Write a program that calculates the number of packages of hot dogs and the number of\n",
    "packages of hot dog buns needed for a cookout, with the minimum amount of leftovers.\n",
    "The program should ask the user for the number of people attending the cookout and the\n",
    "number of hot dogs each person will be given. The program should display the following\n",
    "details:\n",
    "* The minimum number of packages of hot dogs required\n",
    "* The minimum number of packages of hot dog buns required\n",
    "* The number of hot dogs that will be left over\n",
    "* The number of hot dog buns that will be left over"
   ]
  },
  {
   "cell_type": "code",
   "execution_count": 7,
   "id": "5f788135",
   "metadata": {
    "scrolled": true
   },
   "outputs": [
    {
     "name": "stdout",
     "output_type": "stream",
     "text": [
      "\tHow many people are going to attend the cookout  :\t13\n",
      "\tHow many number of hot dogs each person will be given  ?\t3\n",
      "\n",
      "\tThe minimum number of packages of hotdogs required   :\t 4.0\n",
      "\tThe minimum number of packages of buns r           equired   :\t 5.0\n",
      "\n",
      "\tThe number of hotdogs left   :\t 1.0\n",
      "\n",
      "\tThe number of hotdogs buns left   :\t 1.0\n"
     ]
    }
   ],
   "source": [
    "people=int(input(\"\\tHow many people are going to attend the cookout  :\\t\"))\n",
    "no_of_hotdogs=int(input(\"\\tHow many number of hot dogs each person will be given  ?\\t\"))\n",
    "total=people*no_of_hotdogs\n",
    "hotdogs=10\n",
    "buns=8\n",
    "pack_hotdog=round(total/hotdogs,0)\n",
    "pack_buns=round(total/buns,0)\n",
    "hotdog_left=(pack_hotdog*10)-total\n",
    "buns_left=(pack_buns*8)-total\n",
    "print(\"\\n\\tThe minimum number of packages of hotdogs required   :\\t\",pack_hotdog)\n",
    "print(\"\\tThe minimum number of packages of buns required   :\\t\",pack_buns)\n",
    "print(\"\\n\\tThe number of hotdogs left   :\\t\",hotdog_left)\n",
    "print(\"\\n\\tThe number of hotdogs buns left   :\\t\",buns_left)"
   ]
  },
  {
   "cell_type": "markdown",
   "id": "703a3d35",
   "metadata": {},
   "source": [
    "## Miles Per Gallon\n",
    "\n",
    "Drivers are concerned with the mileage obtained\n",
    "by their automobiles. One driver has kept track of several tankfuls of\n",
    "gasoline by recording miles driven and gallons used for each tankful.\n",
    "Develop a sentinel-controlled-repetition script that prompts the user to\n",
    "input the miles driven and gallons used for each tankful. The script should\n",
    "calculate and display the miles per gallon obtained for each tankful. After\n",
    "processing all input information, the script should calculate and display\n",
    "the combined miles per gallon obtained for all tankfuls (that is, total miles\n",
    "driven divided by total gallons used).\n",
    "\n",
    "* Enter the gallons used (-1 to end): 12.8\n",
    "* Enter the miles driven: 287\n",
    "* The miles/gallon for this tank was 22.421875\n",
    "* Enter the gallons used (-1 to end): 10.3\n",
    "* Enter the miles driven: 200\n",
    "* The miles/gallon for this tank was 19.417475\n",
    "* Enter the gallons used (-1 to end): 5\n",
    "* Enter the miles driven: 120\n",
    "* The miles/gallon for this tank was 24.000000\n",
    "* Enter the gallons used (-1 to end): -1\n",
    "* The overall average miles/gallon was 21.601423"
   ]
  },
  {
   "cell_type": "code",
   "execution_count": 8,
   "id": "ce19ff65",
   "metadata": {},
   "outputs": [
    {
     "name": "stdout",
     "output_type": "stream",
     "text": [
      "\tEnter the gallons used (-1 to end)   :\t12.8\n",
      "\tEnter the miles driven   :\t287\n",
      "\n",
      "\tThe miles/gallon for this tank was  22.421875\n"
     ]
    }
   ],
   "source": [
    "gallons=float(input(\"\\tEnter the gallons used (-1 to end)   :\\t\"))\n",
    "miles=float(input(\"\\tEnter the miles driven   :\\t\"))\n",
    "a=miles/gallons\n",
    "print(\"\\n\\tThe miles/gallon for this tank was \",a)"
   ]
  },
  {
   "cell_type": "markdown",
   "id": "672b48a8",
   "metadata": {},
   "source": [
    "## Software Sales\n",
    "A software company sells a package that retails for $99. Quantity discounts are given\n",
    "according to the following table:\n",
    "\n",
    "| Quantity | Discount | \n",
    "| --- | --- |\n",
    "| 10–19 | 10% |\n",
    "| 20–49 | 20% |\n",
    "| 50–99 | 30% |\n",
    "| 100 or more | 40%|\n",
    "\n",
    "Write a program that asks the user to enter the number of packages purchased. The program\n",
    "should then display the amount of the discount (if any) and the total amount of the\n",
    "purchase after the discount."
   ]
  },
  {
   "cell_type": "code",
   "execution_count": 12,
   "id": "139b715c",
   "metadata": {},
   "outputs": [
    {
     "name": "stdout",
     "output_type": "stream",
     "text": [
      "\tEnter number of packages purchased   :\t150\n",
      "\n",
      "\t40% Discount\n",
      "\tTotal amount of the purchase after discount   :\t 8910.0\n"
     ]
    }
   ],
   "source": [
    "packs=int(input(\"\\tEnter number of packages purchased   :\\t\"))\n",
    "amount=packs*99\n",
    "if(packs>=10) and (packs<=19):\n",
    "    discount=amount*0.1\n",
    "    print(\"\\n\\t10% Discount\\n\\tTotal amount of the purchase after discount   :\\t\",(amount-discount))\n",
    "elif(packs>=20) and (packs<=49):\n",
    "    discount=amount*0.2\n",
    "    print(\"\\n\\t20% Discount\\n\\tTotal amount of the purchase after discount   :\\t\",(amount-discount))\n",
    "elif(packs>=50) and (packs<=99):\n",
    "    discount=amount*0.3\n",
    "    print(\"\\n\\t30% Discount\\n\\tTotal amount of the purchase after discount   :\\t\",(amount-discount))\n",
    "elif(packs>=100):\n",
    "    discount=amount*0.4\n",
    "    print(\"\\n\\t40% Discount\\n\\tTotal amount of the purchase after discount   :\\t\",(amount-discount))\n",
    "else:\n",
    "    print(\"\\n\\tNo discount\\n\\tTotal amount of the purchase is   :\\t\",(amount-discount))\n"
   ]
  },
  {
   "cell_type": "markdown",
   "id": "a8341489",
   "metadata": {},
   "source": [
    "## Shipping Charges\n",
    "\n",
    "The Fast Freight Shipping Company charges the following rates:\n",
    "\n",
    "| Weight of Package | Rate per Pound (Dollar) | \n",
    "| ---- | ---- |\n",
    "| 2 pounds or less |  1.50 |\n",
    "| Over 2 pounds but not more than 6 pounds |  3.00 |\n",
    "| Over 6 pounds but not more than 10 pounds | 4.00 |\n",
    "| Over 10 pounds | 4.75 |\n",
    "\n",
    "Write a program that asks the user to enter the weight of a package and then displays the\n",
    "shipping charges."
   ]
  },
  {
   "cell_type": "code",
   "execution_count": 17,
   "id": "1c3e3115",
   "metadata": {},
   "outputs": [
    {
     "name": "stdout",
     "output_type": "stream",
     "text": [
      "Enter the weight of package in pounds   :\t13\n",
      "\n",
      "\tThe charges are   :\t 61.75\n"
     ]
    }
   ],
   "source": [
    "weight=float(input(\"Enter the weight of package in pounds   :\\t\"))\n",
    "if(weight<=2):\n",
    "    print(\"\\n\\tThe charges are   :\\t\",(weight*1.5))\n",
    "elif(weight>2) and (weight<=6):\n",
    "    print(\"\\n\\tThe charges are   :\\t\",(weight*3))\n",
    "elif(weight>6) and (weight<=10):\n",
    "    print(\"\\n\\tThe charges are   :\\t\",(weight*4))\n",
    "elif(weight>10):\n",
    "    print(\"\\n\\tThe charges are   :\\t\",(weight*4.75))  "
   ]
  },
  {
   "cell_type": "markdown",
   "id": "c32daff4",
   "metadata": {},
   "source": [
    "## Body Mass Index\n",
    "\n",
    "Write a program that calculates and displays a person’s body mass index (BMI). The BMI\n",
    "is often used to determine whether a person is overweight or underweight for his or her\n",
    "height. A person’s BMI is calculated with the following formula:\n",
    "\n",
    "\n",
    "**<center>BMI = weight * 703 / height^2</center>**\n",
    "\n",
    "where weight is measured in pounds and height is measured in inches. The program\n",
    "should ask the user to enter his or her weight and height and then display the user’s BMI.\n",
    "The program should also display a message indicating whether the person has optimal\n",
    "weight, is underweight, or is overweight. A person’s weight is considered to be optimal\n",
    "if his or her BMI is between 18.5 and 25. If the BMI is less than 18.5, the person is considered\n",
    "to be underweight. If the BMI value is greater than 25, the person is considered\n",
    "to be overweight."
   ]
  },
  {
   "cell_type": "code",
   "execution_count": 20,
   "id": "38ba033c",
   "metadata": {},
   "outputs": [
    {
     "name": "stdout",
     "output_type": "stream",
     "text": [
      "\n",
      "\tEnter your weight in pounds   :\t40\n",
      "\tEnter your height in inches   :\t50\n",
      "\tBMI   :\t 11.248 \n",
      "\tThe person is underweight.\n"
     ]
    }
   ],
   "source": [
    "weight=float(input(\"\\n\\tEnter your weight in pounds   :\\t\"))\n",
    "height=float(input(\"\\tEnter your height in inches   :\\t\"))\n",
    "bmi=(weight*703)/(height**2)\n",
    "if(bmi>=18.5) and (bmi<=25):\n",
    "    print(\"\\tBMI   :\\t\",bmi,\"\\n\\tThe person has optimal weight.\")\n",
    "elif(bmi<18.5):\n",
    "    print(\"\\tBMI   :\\t\",bmi,\"\\n\\tThe person is underweight.\")\n",
    "elif(bmi>25):\n",
    "    print(\"\\tBMI   :\\t\",bmi,\"\\n\\tThe person is overweight.\")"
   ]
  },
  {
   "cell_type": "markdown",
   "id": "cf0085e4",
   "metadata": {},
   "source": [
    "## Budget Analysis\n",
    "Write a program that asks the user to enter the amount that he or she has budgeted for\n",
    "a month. A loop should then prompt the user to enter each of his or her expenses for the\n",
    "month and keep a running total. When the loop finishes, the program should display the\n",
    "amount that the user is over or under budget."
   ]
  },
  {
   "cell_type": "code",
   "execution_count": 5,
   "id": "300f2868",
   "metadata": {},
   "outputs": [
    {
     "name": "stdout",
     "output_type": "stream",
     "text": [
      "\tEnter your budget of a month   :\t100\n",
      "\n",
      "\tEnter your expense   :\t10\n",
      "\n",
      "\tDo have more expenses (y/n)   :\ty\n",
      "\n",
      "\tEnter your expense   :\t450\n",
      "\n",
      "\tDo have more expenses (y/n)   :\tn\n",
      "\n",
      "\tBudget   :\t 100.0 \n",
      "\tExpenses   :\t 460.0\n",
      "\n",
      "\tYour expenses are over your budget\n"
     ]
    }
   ],
   "source": [
    "budget=float(input(\"\\tEnter your budget of a month   :\\t\"))\n",
    "sum=0.0\n",
    "check=0\n",
    "while check!=-1:\n",
    "    expense=float(input(\"\\n\\tEnter your expense   :\\t\"))\n",
    "    sum+=expense\n",
    "    str=input(\"\\n\\tDo have more expenses (y/n)   :\\t\")\n",
    "    if str==\"n\" or str==\"N\" :\n",
    "        check=-1\n",
    "print(\"\\n\\tBudget   :\\t\",budget,\"\\n\\tExpenses   :\\t\",sum)\n",
    "if sum>budget :\n",
    "    print(\"\\n\\tYour expenses are over your budget\")\n",
    "else:\n",
    "    print(\"\\n\\tYour expenses are under your budget\")"
   ]
  },
  {
   "cell_type": "markdown",
   "id": "4e33cb3a",
   "metadata": {},
   "source": [
    "## Average Rainfall\n",
    "Write a program that uses nested loops to collect data and calculate the average rainfall\n",
    "over a period of years. The program should first ask for the number of years. The outer loop\n",
    "will iterate once for each year. The inner loop will iterate twelve times, once for each month.\n",
    "Each iteration of the inner loop will ask the user for the inches of rainfall for that month.\n",
    "After all iterations, the program should display the number of months, the total inches of\n",
    "rainfall, and the average rainfall per month for the entire period."
   ]
  },
  {
   "cell_type": "code",
   "execution_count": 9,
   "id": "2cb6e0c7",
   "metadata": {},
   "outputs": [
    {
     "name": "stdout",
     "output_type": "stream",
     "text": [
      "Enter years   :\t1\n",
      "\n",
      "\tEnter inches of rainfall for  1  month\n",
      "1\n",
      "\n",
      "\tEnter inches of rainfall for  2  month\n",
      "1\n",
      "\n",
      "\tEnter inches of rainfall for  3  month\n",
      "1\n",
      "\n",
      "\tEnter inches of rainfall for  4  month\n",
      "1\n",
      "\n",
      "\tEnter inches of rainfall for  5  month\n",
      "1\n",
      "\n",
      "\tEnter inches of rainfall for  6  month\n",
      "1\n",
      "\n",
      "\tEnter inches of rainfall for  7  month\n",
      "1\n",
      "\n",
      "\tEnter inches of rainfall for  8  month\n",
      "1\n",
      "\n",
      "\tEnter inches of rainfall for  9  month\n",
      "1\n",
      "\n",
      "\tEnter inches of rainfall for  10  month\n",
      "1\n",
      "\n",
      "\tEnter inches of rainfall for  11  month\n",
      "1\n",
      "\n",
      "\tEnter inches of rainfall for  12  month\n",
      "1\n",
      "\n",
      "\tTotal number of months   :\t 12\n",
      "\n",
      "\tTotal inches of rainfall   :\t 12.0\n",
      "\n",
      "\tAverage rainfall per month for the entire period   :\t 1.0\n"
     ]
    }
   ],
   "source": [
    "years=int(input(\"Enter years   :\\t\"))\n",
    "total_rainfall=0.0\n",
    "months=years*12\n",
    "for i in range(1,years+1):\n",
    "    for j in range(1,months+1) :\n",
    "        print(\"\\n\\tEnter inches of rainfall for \",j,\" month\")\n",
    "        rainfall=float(input())\n",
    "        total_rainfall+=rainfall\n",
    "m=years*12\n",
    "a=total_rainfall/m\n",
    "print(\"\\n\\tTotal number of months   :\\t\",m)\n",
    "print(\"\\n\\tTotal inches of rainfall   :\\t\",total_rainfall)\n",
    "print(\"\\n\\tAverage rainfall per month for the entire period   :\\t\",a)"
   ]
  },
  {
   "cell_type": "markdown",
   "id": "f68b056b",
   "metadata": {},
   "source": [
    "## Guess the Number\n",
    "Write a script that plays “guess the number.”\n",
    "Choose the number to be guessed by selecting a random integer in the\n",
    "range 1 to 1000. Do not reveal this number to the user. **Display the prompt\n",
    "\"Guess my number between 1 and 1000 with the fewest\n",
    "guesses:\"**. The player inputs a first guess. If the guess is incorrect,\n",
    "display **\"Too high. Try again.\"** or **\"Too low. Try again.\" ** as\n",
    "appropriate to help the player “zero in” on the correct answer, then prompt\n",
    "the user for the next guess. When the user enters the correct answer,\n",
    "display **\"Congratulations. You guessed the number!\"**, and\n",
    "allow the user to choose whether to play again."
   ]
  },
  {
   "cell_type": "code",
   "execution_count": 25,
   "id": "071fe73c",
   "metadata": {
    "scrolled": true
   },
   "outputs": [
    {
     "name": "stdout",
     "output_type": "stream",
     "text": [
      "Guess my number between 1 and 1000 with the nearest guesses : 500\n",
      "Too low. Try again\n",
      "Guess my number between 1 and 1000 with the nearest guesses : 700\n",
      "Too low. Try again\n",
      "Guess my number between 1 and 1000 with the nearest guesses : 900\n",
      "Too high Try again.\n",
      "Guess my number between 1 and 1000 with the nearest guesses : 850\n",
      "Too high Try again.\n",
      "Guess my number between 1 and 1000 with the nearest guesses : 800\n",
      "Too high Try again.\n",
      "Guess my number between 1 and 1000 with the nearest guesses : 780\n",
      "Too high Try again.\n",
      "Guess my number between 1 and 1000 with the nearest guesses : 750\n",
      "Too low. Try again\n",
      "Guess my number between 1 and 1000 with the nearest guesses : 769\n",
      "Too low. Try again\n",
      "Guess my number between 1 and 1000 with the nearest guesses : 763\n",
      "Too low. Try again\n",
      "Guess my number between 1 and 1000 with the nearest guesses : 771\n",
      "Too high Try again.\n",
      "You lose the game.The right number was  770 \n",
      "Good luck for the next time\n",
      "Do you want to play again ? (y/n)n\n"
     ]
    }
   ],
   "source": [
    "import random\n",
    "check=0\n",
    "while check!=-1:\n",
    "    check=0\n",
    "    number = random.randrange(1, 1001)\n",
    "    guess_counter=0\n",
    "    while guess_counter<10:\n",
    "        guess = int(input(\"Guess my number between 1 and 1000 with the nearest guesses : \"))\n",
    "        guess_counter=guess_counter+1\n",
    "        if guess > number:\n",
    "            print(\"Too high Try again.\")\n",
    "        elif guess < number:\n",
    "            print(\"Too low. Try again\")\n",
    "        else:\n",
    "            break\n",
    "    if guess==number:\n",
    "        print(\"Congratulations. You guessed the number\")\n",
    "        x=input(\"Do you want to play again ? (y/n)\")\n",
    "        if(x==\"n\" or check==\"N\"):\n",
    "            check=-1\n",
    "    else:\n",
    "        print(\"You lose the game.The right number was \",number,\"\\nGood luck for the next time\")\n",
    "        x=input(\"Do you want to play again ? (y/n)\")\n",
    "        if(x==\"n\" or check==\"N\"):\n",
    "            check=-1"
   ]
  },
  {
   "cell_type": "markdown",
   "id": "8107e847",
   "metadata": {},
   "source": [
    "## Population\n",
    "Write a program that predicts the approximate size of a population of organisms. The\n",
    "application should allow the user to enter the starting number of organisms,\n",
    "the average daily population increase (as a percentage), and the number of days the\n",
    "organisms will be left to multiply. For example, assume the user enters the following values:\n",
    "\n",
    "Starting number of organisms: 2\n",
    "\n",
    "Average daily increase: 30%\n",
    "\n",
    "Number of days to multiply: 10\n",
    "\n",
    "The program should display the following table of data:\n",
    "\n",
    "| Day Approximate | Population |\n",
    "| --- | --- |\n",
    "| 1 | 2 |\n",
    "| 2 | 2.6 |\n",
    "| 3 | 3.38 |\n",
    "| 4 | 4.394 |\n",
    "| 5 | 5.7122 |\n",
    "|6 | 7.42586 |\n",
    "|7 | 9.653619 |\n",
    "|8 | 12.5497 |\n",
    "|9 | 16.31462 |\n",
    "|10 | 21.209 |"
   ]
  },
  {
   "cell_type": "code",
   "execution_count": 43,
   "id": "7439b99b",
   "metadata": {},
   "outputs": [
    {
     "name": "stdout",
     "output_type": "stream",
     "text": [
      "Starting number of organisms   :\t2\n",
      "Average daily increase (in %)   :\t30\n",
      "Number of days to multiply   :\t5\n",
      "\n",
      "Day Approximate\t\tPopulation\n",
      "1 \t\t\t 2\n",
      "2 \t\t\t 2.6\n",
      "3 \t\t\t 3.38\n",
      "4 \t\t\t 4.394\n",
      "5 \t\t\t 5.712\n"
     ]
    }
   ],
   "source": [
    "starting=int(input(\"Starting number of organisms   :\\t\"))\n",
    "average=int(input(\"Average daily increase (in %)   :\\t\"))\n",
    "days=int(input(\"Number of days to multiply   :\\t\"))\n",
    "print(\"\\nDay Approximate\\t\\tPopulation\")\n",
    "percentage=average/100\n",
    "sum=starting\n",
    "print(1,\"\\t\\t\\t\",starting)\n",
    "for i in range(2,days+1) :\n",
    "    a=percentage*sum\n",
    "    sum+=a\n",
    "    print(i,\"\\t\\t\\t\",round(sum, 3))"
   ]
  }
 ],
 "metadata": {
  "kernelspec": {
   "display_name": "Python 3",
   "language": "python",
   "name": "python3"
  },
  "language_info": {
   "codemirror_mode": {
    "name": "ipython",
    "version": 3
   },
   "file_extension": ".py",
   "mimetype": "text/x-python",
   "name": "python",
   "nbconvert_exporter": "python",
   "pygments_lexer": "ipython3",
   "version": "3.8.8"
  }
 },
 "nbformat": 4,
 "nbformat_minor": 5
}
